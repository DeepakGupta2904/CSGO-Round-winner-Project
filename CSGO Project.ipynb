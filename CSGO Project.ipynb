{
 "cells": [
  {
   "cell_type": "code",
   "execution_count": null,
   "id": "55a0a992",
   "metadata": {},
   "outputs": [],
   "source": [
    "import pandas as pd\n",
    "import numpy as np\n",
    "import matplotlib.pyplot as plt\n",
    "import seaborn as sns"
   ]
  },
  {
   "cell_type": "code",
   "execution_count": null,
   "id": "d735b583",
   "metadata": {},
   "outputs": [],
   "source": [
    "df = pd.read_csv(\"csgo_round_snapshots (1).csv\")\n",
    "df.head()"
   ]
  },
  {
   "cell_type": "code",
   "execution_count": null,
   "id": "a4e6a9ab",
   "metadata": {},
   "outputs": [],
   "source": [
    "df.shape"
   ]
  },
  {
   "cell_type": "code",
   "execution_count": null,
   "id": "edb853d4",
   "metadata": {},
   "outputs": [],
   "source": [
    "df.columns"
   ]
  },
  {
   "cell_type": "code",
   "execution_count": null,
   "id": "aa2375ad",
   "metadata": {},
   "outputs": [],
   "source": [
    "df.info()"
   ]
  },
  {
   "cell_type": "code",
   "execution_count": null,
   "id": "583b535e",
   "metadata": {},
   "outputs": [],
   "source": [
    "df['map'].value_counts()"
   ]
  },
  {
   "cell_type": "code",
   "execution_count": null,
   "id": "84e79467",
   "metadata": {},
   "outputs": [],
   "source": [
    "# lets see teams how they are successful in winning rounds\n",
    "\n",
    "counts = df['map'].value_counts()\n",
    "total = counts.sum()\n",
    "percentages = counts / total * 100\n",
    "print(percentages)"
   ]
  },
  {
   "cell_type": "code",
   "execution_count": null,
   "id": "eb28a005",
   "metadata": {},
   "outputs": [],
   "source": [
    "plt.bar(counts.index, counts.values)\n",
    " \n",
    "plt.xticks(rotation = 45, ha='right' ) #changes the properties of values on x asis\n",
    "\n",
    "#add labels -> \n",
    "#for i,j(counts.values):\n",
    "#    plt.text()\n",
    "\n",
    "plt.text()\n",
    "plt.xlabel(\"Map\")\n",
    "plt.ylabel(\"count\")"
   ]
  },
  {
   "cell_type": "code",
   "execution_count": null,
   "id": "1811f563",
   "metadata": {},
   "outputs": [],
   "source": [
    "df.isnull().sum()"
   ]
  },
  {
   "cell_type": "code",
   "execution_count": null,
   "id": "d4d7c713",
   "metadata": {},
   "outputs": [],
   "source": [
    "df.isnull().sum().sum()"
   ]
  },
  {
   "cell_type": "code",
   "execution_count": null,
   "id": "e6c2c14c",
   "metadata": {},
   "outputs": [],
   "source": [
    "## There are no null values present in the dataset"
   ]
  },
  {
   "cell_type": "code",
   "execution_count": null,
   "id": "71251b5c",
   "metadata": {},
   "outputs": [],
   "source": [
    "df.info()"
   ]
  },
  {
   "cell_type": "code",
   "execution_count": null,
   "id": "258218d1",
   "metadata": {},
   "outputs": [],
   "source": [
    "#convert the object and boolean data into numerical:\n",
    "#astype vs label encoding, pd.to_numeric()\n",
    "\n",
    "# '2','3','x', '4' - > 2,3,Nan, 4"
   ]
  },
  {
   "cell_type": "code",
   "execution_count": null,
   "id": "d3a7086d",
   "metadata": {},
   "outputs": [],
   "source": [
    "# Converting categorical features into a integer column\n",
    "from sklearn.preprocessing import LabelEncoder\n",
    "\n",
    "le=LabelEncoder()\n",
    "df['bomb_planted'] = le.fit_transform(df['bomb_planted'])\n",
    "df['map'] = le.fit_transform(df['map'])\n",
    "df['round_winner'] = le.fit_transform(df['round_winner'])"
   ]
  },
  {
   "cell_type": "code",
   "execution_count": null,
   "id": "691e004f",
   "metadata": {},
   "outputs": [],
   "source": [
    "'''\n",
    "for i in df.columns:\n",
    "    if ((df[i].dtype == \"object\") or (df[i].dtype == \"bool\")):\n",
    "        df[i] = le.fit_transform(df[i])\n",
    "'''"
   ]
  },
  {
   "cell_type": "code",
   "execution_count": null,
   "id": "9213d8f4",
   "metadata": {},
   "outputs": [],
   "source": [
    "df.info()"
   ]
  },
  {
   "cell_type": "code",
   "execution_count": null,
   "id": "9109b971",
   "metadata": {},
   "outputs": [],
   "source": [
    "X = df.drop(columns=[\"round_winner\"])\n",
    "y = df[[\"round_winner\"]]"
   ]
  },
  {
   "cell_type": "code",
   "execution_count": null,
   "id": "caaff47e",
   "metadata": {},
   "outputs": [],
   "source": [
    "x"
   ]
  },
  {
   "cell_type": "code",
   "execution_count": null,
   "id": "8a4dc46b",
   "metadata": {},
   "outputs": [],
   "source": [
    "y"
   ]
  },
  {
   "cell_type": "code",
   "execution_count": null,
   "id": "787a2ea6",
   "metadata": {},
   "outputs": [],
   "source": [
    "#df.duplicated()\n",
    "#drop_duplicates"
   ]
  },
  {
   "cell_type": "code",
   "execution_count": null,
   "id": "f02cbb9e",
   "metadata": {},
   "outputs": [],
   "source": [
    "from sklearn.model_selection import train_test_split\n",
    "x_train,x_test,y_train,y_test=train_test_split(X,y,test_size=0.2,random_state=999)"
   ]
  },
  {
   "cell_type": "code",
   "execution_count": null,
   "id": "72122146",
   "metadata": {},
   "outputs": [],
   "source": [
    "x_train"
   ]
  },
  {
   "cell_type": "code",
   "execution_count": null,
   "id": "34983b1a",
   "metadata": {},
   "outputs": [],
   "source": [
    "# Scaling the data\n",
    "from sklearn.preprocessing import StandardScaler\n",
    "sc=StandardScaler()\n",
    "x_train=sc.fit_transform(x_train)\n",
    "x_test=sc.transform(x_test)"
   ]
  },
  {
   "cell_type": "code",
   "execution_count": null,
   "id": "ef8bbc59",
   "metadata": {},
   "outputs": [],
   "source": [
    "# Applying Linear Discriminant Analysis\n",
    "from sklearn.discriminant_analysis import LinearDiscriminantAnalysis"
   ]
  },
  {
   "cell_type": "code",
   "execution_count": null,
   "id": "f7a1e21c",
   "metadata": {},
   "outputs": [],
   "source": [
    "lda = LinearDiscriminantAnalysis()\n",
    "lda.fit(x_train, y_train) #min(2-1, 96) ==> 1"
   ]
  },
  {
   "cell_type": "code",
   "execution_count": null,
   "id": "d961ca12",
   "metadata": {},
   "outputs": [],
   "source": [
    "x_test"
   ]
  },
  {
   "cell_type": "code",
   "execution_count": null,
   "id": "a0f5c03c",
   "metadata": {},
   "outputs": [],
   "source": [
    "lda.transform(x_test)"
   ]
  },
  {
   "cell_type": "code",
   "execution_count": null,
   "id": "9451d374",
   "metadata": {},
   "outputs": [],
   "source": [
    "lda.coef_"
   ]
  },
  {
   "cell_type": "code",
   "execution_count": null,
   "id": "4eb59f27",
   "metadata": {},
   "outputs": [],
   "source": [
    "# Obtaining the LDA coefficients.This will give the importance scores associated with each feature.\n",
    "lda_coefficients = np.exp(np.abs(lda.coef_))\n",
    "lda_coefficients"
   ]
  },
  {
   "cell_type": "code",
   "execution_count": null,
   "id": "66928566",
   "metadata": {},
   "outputs": [],
   "source": [
    "lda_coefficients = lda_coefficients.flatten() # any dimension to 1-D\n",
    "lda_coefficients"
   ]
  },
  {
   "cell_type": "code",
   "execution_count": null,
   "id": "be68a4d0",
   "metadata": {},
   "outputs": [],
   "source": [
    "X.shape"
   ]
  },
  {
   "cell_type": "code",
   "execution_count": null,
   "id": "1bdd9d93",
   "metadata": {},
   "outputs": [],
   "source": [
    "num_features = X.shape[1]\n",
    "num_features"
   ]
  },
  {
   "cell_type": "code",
   "execution_count": null,
   "id": "9b0deadc",
   "metadata": {},
   "outputs": [],
   "source": [
    "feature_indices = np.arange(num_features) #96 - > 0 to 95\n",
    "feature_indices"
   ]
  },
  {
   "cell_type": "code",
   "execution_count": null,
   "id": "2b6d149e",
   "metadata": {},
   "outputs": [],
   "source": [
    "feature_names = list(X.columns)\n",
    "feature_names"
   ]
  },
  {
   "cell_type": "code",
   "execution_count": null,
   "id": "386978b5",
   "metadata": {},
   "outputs": [],
   "source": [
    "plt.figure(figsize=(20,18))\n",
    "\n",
    "plt.bar(feature_indices, lda_coefficients)\n",
    "plt.xticks(feature_indices, feature_names, rotation=\"vertical\")\n",
    "plt.xlabel(\"Feature\")\n",
    "plt.ylabel(\"Score\")\n",
    "plt.show()"
   ]
  },
  {
   "cell_type": "code",
   "execution_count": null,
   "id": "1deb7d08",
   "metadata": {},
   "outputs": [],
   "source": []
  },
  {
   "cell_type": "code",
   "execution_count": null,
   "id": "dc258811",
   "metadata": {},
   "outputs": [],
   "source": []
  },
  {
   "cell_type": "code",
   "execution_count": null,
   "id": "0489de9f",
   "metadata": {},
   "outputs": [],
   "source": []
  }
 ],
 "metadata": {
  "kernelspec": {
   "display_name": "Python 3 (ipykernel)",
   "language": "python",
   "name": "python3"
  },
  "language_info": {
   "codemirror_mode": {
    "name": "ipython",
    "version": 3
   },
   "file_extension": ".py",
   "mimetype": "text/x-python",
   "name": "python",
   "nbconvert_exporter": "python",
   "pygments_lexer": "ipython3",
   "version": "3.10.9"
  }
 },
 "nbformat": 4,
 "nbformat_minor": 5
}
